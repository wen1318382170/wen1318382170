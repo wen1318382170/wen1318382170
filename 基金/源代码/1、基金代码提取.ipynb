{
 "cells": [
  {
   "cell_type": "markdown",
   "id": "f58486b6",
   "metadata": {},
   "source": [
    "## 提取代码"
   ]
  },
  {
   "cell_type": "code",
   "execution_count": 1,
   "id": "b983dce6",
   "metadata": {},
   "outputs": [],
   "source": [
    "import pandas as pd\n",
    "import re\n",
    "import numpy as np\n",
    "from bs4 import BeautifulSoup\n",
    "import requests"
   ]
  },
  {
   "cell_type": "code",
   "execution_count": 2,
   "id": "66641c4f",
   "metadata": {},
   "outputs": [],
   "source": [
    "url='http://fund.eastmoney.com/js/fundcode_search.js'\n",
    "num=requests.get(url)\n",
    "# 通过正则表达式获取基金信息\n",
    "text=re.findall(r'\"(\\d*?)\",\"(.*?)\",\"(.*?)\",\"(.*?)\",\"(.*?)\"',num.text)\n"
   ]
  },
  {
   "cell_type": "code",
   "execution_count": 3,
   "id": "8d4e254d",
   "metadata": {},
   "outputs": [
    {
     "name": "stderr",
     "output_type": "stream",
     "text": [
      "C:\\ProgramData\\Anaconda3\\lib\\site-packages\\xlsxwriter\\workbook.py:336: UserWarning: Calling close() on already closed file.\n",
      "  warn(\"Calling close() on already closed file.\")\n"
     ]
    }
   ],
   "source": [
    "# 转化为二维表\n",
    "基金代码=[]\n",
    "基金名称=[]\n",
    "基金类型=[]\n",
    "for i in text:\n",
    "    content=list(i)\n",
    "    基金代码.append(content[0])\n",
    "    基金名称.append(content[2])\n",
    "    基金类型.append(content[3])\n",
    "基金信息=pd.DataFrame({'代码':基金代码,'名称':基金名称,'类型':基金类型})\n",
    "# 写入到本地磁盘，想到后续会在excel做一些分析，先把数据下载下来\n",
    "writer=pd.ExcelWriter(r'./代码/所有基金代码.xlsx')\n",
    "基金信息.to_excel(writer,sheet_name='基金信息',index=False)\n",
    "writer.save()\n",
    "writer.close()"
   ]
  },
  {
   "cell_type": "code",
   "execution_count": 5,
   "id": "5f2d12b0",
   "metadata": {},
   "outputs": [
    {
     "data": {
      "text/html": [
       "<div>\n",
       "<style scoped>\n",
       "    .dataframe tbody tr th:only-of-type {\n",
       "        vertical-align: middle;\n",
       "    }\n",
       "\n",
       "    .dataframe tbody tr th {\n",
       "        vertical-align: top;\n",
       "    }\n",
       "\n",
       "    .dataframe thead th {\n",
       "        text-align: right;\n",
       "    }\n",
       "</style>\n",
       "<table border=\"1\" class=\"dataframe\">\n",
       "  <thead>\n",
       "    <tr style=\"text-align: right;\">\n",
       "      <th></th>\n",
       "      <th>代码</th>\n",
       "      <th>名称</th>\n",
       "      <th>类型</th>\n",
       "    </tr>\n",
       "  </thead>\n",
       "  <tbody>\n",
       "    <tr>\n",
       "      <th>0</th>\n",
       "      <td>000001</td>\n",
       "      <td>华夏成长混合</td>\n",
       "      <td>混合型-偏股</td>\n",
       "    </tr>\n",
       "    <tr>\n",
       "      <th>1</th>\n",
       "      <td>000002</td>\n",
       "      <td>华夏成长混合(后端)</td>\n",
       "      <td>混合型-偏股</td>\n",
       "    </tr>\n",
       "    <tr>\n",
       "      <th>2</th>\n",
       "      <td>000003</td>\n",
       "      <td>中海可转债债券A</td>\n",
       "      <td>债券型-可转债</td>\n",
       "    </tr>\n",
       "    <tr>\n",
       "      <th>3</th>\n",
       "      <td>000004</td>\n",
       "      <td>中海可转债债券C</td>\n",
       "      <td>债券型-可转债</td>\n",
       "    </tr>\n",
       "    <tr>\n",
       "      <th>4</th>\n",
       "      <td>000005</td>\n",
       "      <td>嘉实增强信用定期债券</td>\n",
       "      <td>债券型-长债</td>\n",
       "    </tr>\n",
       "    <tr>\n",
       "      <th>...</th>\n",
       "      <td>...</td>\n",
       "      <td>...</td>\n",
       "      <td>...</td>\n",
       "    </tr>\n",
       "    <tr>\n",
       "      <th>14019</th>\n",
       "      <td>970068</td>\n",
       "      <td>兴证资管金麒麟消费升级混合B</td>\n",
       "      <td>混合型-偏股</td>\n",
       "    </tr>\n",
       "    <tr>\n",
       "      <th>14020</th>\n",
       "      <td>970069</td>\n",
       "      <td>兴证资管金麒麟消费升级混合C</td>\n",
       "      <td>混合型-偏股</td>\n",
       "    </tr>\n",
       "    <tr>\n",
       "      <th>14021</th>\n",
       "      <td>970071</td>\n",
       "      <td>第一创业创享纯债</td>\n",
       "      <td>债券型-长债</td>\n",
       "    </tr>\n",
       "    <tr>\n",
       "      <th>14022</th>\n",
       "      <td>970072</td>\n",
       "      <td>华安证券合赢添利债券</td>\n",
       "      <td>债券型-混合债</td>\n",
       "    </tr>\n",
       "    <tr>\n",
       "      <th>14023</th>\n",
       "      <td>980003</td>\n",
       "      <td>太平洋六个月滚动持有债</td>\n",
       "      <td>债券型-长债</td>\n",
       "    </tr>\n",
       "  </tbody>\n",
       "</table>\n",
       "<p>14024 rows × 3 columns</p>\n",
       "</div>"
      ],
      "text/plain": [
       "           代码              名称       类型\n",
       "0      000001          华夏成长混合   混合型-偏股\n",
       "1      000002      华夏成长混合(后端)   混合型-偏股\n",
       "2      000003        中海可转债债券A  债券型-可转债\n",
       "3      000004        中海可转债债券C  债券型-可转债\n",
       "4      000005      嘉实增强信用定期债券   债券型-长债\n",
       "...       ...             ...      ...\n",
       "14019  970068  兴证资管金麒麟消费升级混合B   混合型-偏股\n",
       "14020  970069  兴证资管金麒麟消费升级混合C   混合型-偏股\n",
       "14021  970071        第一创业创享纯债   债券型-长债\n",
       "14022  970072      华安证券合赢添利债券  债券型-混合债\n",
       "14023  980003     太平洋六个月滚动持有债   债券型-长债\n",
       "\n",
       "[14024 rows x 3 columns]"
      ]
     },
     "execution_count": 5,
     "metadata": {},
     "output_type": "execute_result"
    }
   ],
   "source": [
    "jijin=pd.read_excel(r'所有基金代码.xlsx',dtype={'代码':str})#让代码读取数据为str\n",
    "jijin"
   ]
  },
  {
   "cell_type": "code",
   "execution_count": null,
   "id": "0026c9a1",
   "metadata": {},
   "outputs": [],
   "source": []
  }
 ],
 "metadata": {
  "kernelspec": {
   "display_name": "Python 3",
   "language": "python",
   "name": "python3"
  },
  "language_info": {
   "codemirror_mode": {
    "name": "ipython",
    "version": 3
   },
   "file_extension": ".py",
   "mimetype": "text/x-python",
   "name": "python",
   "nbconvert_exporter": "python",
   "pygments_lexer": "ipython3",
   "version": "3.8.8"
  }
 },
 "nbformat": 4,
 "nbformat_minor": 5
}
